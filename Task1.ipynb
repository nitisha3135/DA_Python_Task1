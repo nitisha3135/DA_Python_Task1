{
 "cells": [
  {
   "cell_type": "raw",
   "id": "8cd3bfe5-50ef-4198-827b-b47de398f29d",
   "metadata": {},
   "source": [
    "1. Titles and Headings"
   ]
  },
  {
   "cell_type": "markdown",
   "id": "da4d7ab3-d547-4e1a-9a7c-17c9cd134a05",
   "metadata": {},
   "source": [
    "# Title\n",
    "## Subtitle\n",
    "### Section"
   ]
  },
  {
   "cell_type": "raw",
   "id": "65b6d757-238b-4e20-9fc1-5d8fcc9d8f2b",
   "metadata": {},
   "source": [
    "2. Bold and Italics"
   ]
  },
  {
   "cell_type": "markdown",
   "id": "6912239f-ace4-4fee-8c12-c204001ad66f",
   "metadata": {},
   "source": [
    "**This is bold text** \n",
    "*This is italic text*"
   ]
  },
  {
   "cell_type": "raw",
   "id": "eb6329f2-48a0-47f0-8760-019ff6f43b4f",
   "metadata": {},
   "source": [
    "3. Lists (Ordered and Unordered)"
   ]
  },
  {
   "cell_type": "markdown",
   "id": "f24c8e3a-35a3-4da9-ba66-54e98037f883",
   "metadata": {},
   "source": [
    "- Item 1\n",
    "- Item 2\n",
    "  - Sub-item 2.1\n",
    "\n",
    "1. Step 1\n",
    "2. Step 2\n",
    "   1. Sub-step 2.1"
   ]
  },
  {
   "cell_type": "raw",
   "id": "ad9a1505-b848-49a4-bc81-6c4060151370",
   "metadata": {},
   "source": [
    "4. Blockquotes"
   ]
  },
  {
   "cell_type": "markdown",
   "id": "c933677f-5795-48cb-8966-6cc3eb058c3a",
   "metadata": {},
   "source": [
    "> This is a blockquote"
   ]
  },
  {
   "cell_type": "raw",
   "id": "038ac888-5fab-4dca-8557-d61adb378d6e",
   "metadata": {},
   "source": [
    "5. Code Blocks"
   ]
  },
  {
   "cell_type": "markdown",
   "id": "a0f8fec4-b605-427f-9c3c-03a6b713a3e6",
   "metadata": {},
   "source": [
    "```\n",
    "    print(\"Hello World!\")\n",
    "```"
   ]
  },
  {
   "cell_type": "raw",
   "id": "8393486d-1a04-473c-afb0-388cb66bd0bd",
   "metadata": {},
   "source": [
    "6. Inline Code"
   ]
  },
  {
   "cell_type": "markdown",
   "id": "b229c59e-69d9-461f-b776-4607c133d490",
   "metadata": {},
   "source": [
    "This is an `inline code`"
   ]
  },
  {
   "cell_type": "raw",
   "id": "b8764500-5173-4be7-a565-9399673cef6a",
   "metadata": {},
   "source": [
    "7. Hyperlinks"
   ]
  },
  {
   "cell_type": "markdown",
   "id": "e1e716dc-15e9-4f00-bf75-536fd1118564",
   "metadata": {},
   "source": [
    "[Visit Google](https://www.google.com)"
   ]
  },
  {
   "cell_type": "raw",
   "id": "4c9a70d8-afe1-471c-a8a5-6a89ad00c7bc",
   "metadata": {},
   "source": [
    "8. Adding Images"
   ]
  },
  {
   "cell_type": "markdown",
   "id": "7168e5eb-c100-4d2c-b645-60dd4653665b",
   "metadata": {},
   "source": [
    "<img src=\"E:\\ENVY\\Documents\\cute_clips.jpg\" alt=\"Hair Clips\" width=\"400\">\r\n"
   ]
  },
  {
   "cell_type": "raw",
   "id": "c3697318-7430-4bf5-a3c3-614b84fb2cef",
   "metadata": {},
   "source": [
    "9. Tables"
   ]
  },
  {
   "cell_type": "markdown",
   "id": "a41be6ac-0145-4ef5-951d-9cf9e0cbac2b",
   "metadata": {},
   "source": [
    "| Column 1 | Column 2 | Column 3 |\n",
    "|----------|----------|----------|\n",
    "| Value 1  | Value 2  | Value 3  |"
   ]
  },
  {
   "cell_type": "raw",
   "id": "4891654c-9755-4279-951a-1a8fc176a59a",
   "metadata": {},
   "source": [
    "10. Horizontal Lines"
   ]
  },
  {
   "cell_type": "markdown",
   "id": "095fe670-13b9-48fa-8b2e-1d4405d4abc3",
   "metadata": {},
   "source": [
    "---\n",
    "***"
   ]
  },
  {
   "cell_type": "raw",
   "id": "b706eb08-8654-46ca-9867-fff838acf6d5",
   "metadata": {},
   "source": [
    "11. Mathematical Expressions"
   ]
  },
  {
   "cell_type": "markdown",
   "id": "a516b507-f89f-408c-9f9c-28e16d4c47af",
   "metadata": {},
   "source": [
    "Inline equation: $E = mc^2$\n",
    "Block equation:\n",
    "$$E = mc^2$$\n"
   ]
  },
  {
   "cell_type": "raw",
   "id": "6bcf1e44-35b7-42d8-9ccc-4c14ddf46e23",
   "metadata": {},
   "source": [
    "12. Embedding HTML"
   ]
  },
  {
   "cell_type": "markdown",
   "id": "042eb583-a2b5-4822-a247-0f53743a93e3",
   "metadata": {},
   "source": [
    "<div style=\"color: blue; font-weight: bold;\">\n",
    "This is HTML in a Jupyter Notebook!\n",
    "</div>\n"
   ]
  },
  {
   "cell_type": "raw",
   "id": "3b632a4d-c115-403d-9cd1-69f5315dc431",
   "metadata": {},
   "source": [
    "13. Checkboxes"
   ]
  },
  {
   "cell_type": "markdown",
   "id": "36d94e9a-0f18-4d3e-805f-714577e4eeda",
   "metadata": {},
   "source": [
    "- [x] Completed task\n",
    "- [ ] Pending task\n"
   ]
  },
  {
   "cell_type": "raw",
   "id": "977bf161-1bab-4521-8f1d-62108fa109b1",
   "metadata": {},
   "source": [
    "14. Escaping Characters"
   ]
  },
  {
   "cell_type": "markdown",
   "id": "ab676846-a7f5-433f-ad51-5f9ed1611fc4",
   "metadata": {},
   "source": [
    "Use \\* to display a literal asterisk.\n"
   ]
  },
  {
   "cell_type": "raw",
   "id": "fee41656-06ad-44a9-91f4-4c7de2b678a6",
   "metadata": {},
   "source": [
    "15. Highlighting Text"
   ]
  },
  {
   "cell_type": "markdown",
   "id": "387d51bd-eae0-4c61-aabc-0649cb87a63e",
   "metadata": {},
   "source": [
    "==Highlighted Text==\n"
   ]
  }
 ],
 "metadata": {
  "kernelspec": {
   "display_name": "Python 3 (ipykernel)",
   "language": "python",
   "name": "python3"
  },
  "language_info": {
   "codemirror_mode": {
    "name": "ipython",
    "version": 3
   },
   "file_extension": ".py",
   "mimetype": "text/x-python",
   "name": "python",
   "nbconvert_exporter": "python",
   "pygments_lexer": "ipython3",
   "version": "3.12.4"
  }
 },
 "nbformat": 4,
 "nbformat_minor": 5
}
